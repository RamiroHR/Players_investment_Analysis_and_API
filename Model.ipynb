{
 "cells": [
  {
   "cell_type": "markdown",
   "id": "bd918035-69d6-498a-9a65-0e519cde4b51",
   "metadata": {},
   "source": [
    "# Outline\n",
    "\n",
    "#### Stablish context and business objetive for the projet\n",
    "    * define model outcome\n",
    "    * define most relevant metrics\n",
    "    * define how to select the \"best model\"\n",
    "    * Define the general scoring function.   \n",
    "\n",
    "#### Data Preprocessing according to the insights from the \"Data Exploration\" phase.\n",
    "    * remove duplicate\n",
    "    * remove inconsistencies\n",
    "    * replace NaNs  \n",
    "    * drop non-relevant features (optional)\n",
    "\n",
    "#### Data Transformation: ready to train ML-models:\n",
    "    * features-target separation\n",
    "    * train-test split (unbalanced dataset)\n",
    "    * data normalilzation\n",
    "    * dataframe to array transformation\n",
    "\n",
    "#### Stablish Null model  \n",
    "    * Evaluate null model\n",
    "\n",
    "#### Explore Base models: _logreg_, _svc_, _dt_, _knn_, ... _rf_. \n",
    "For each one:\n",
    "\n",
    "    * Define the hyperparams of the model with GridSearch on the train_split (this will not be the final training)\n",
    "    * Select the best hyper_params the model\n",
    "\n",
    "#### Compare trained base models.  \n",
    "    * Evaluate model metrics using the scoring function. Use the train_split. \n",
    "\n",
    "\n",
    "#### Train the best model.\n",
    "    * select the \"best model\"\n",
    "    * Train the model, from scratch, on the entire train_split at once (final base model training)\n",
    "    * Use the entire dataset available (final training)\n",
    "\n",
    "#### Final Model evaluation\n",
    "    * Evaluate risk of overfitting by measuring the performance on the test_split (comparing with train_split performances).\n",
    "    * optimize model with ROC-AUC (find best prob threshold)\n",
    "\n",
    "#### Export trained model ready to wrap in API\n",
    "    * Use joblib"
   ]
  },
  {
   "cell_type": "code",
   "execution_count": null,
   "id": "7bda9f74-d35c-4f58-acb6-ed756389b4cb",
   "metadata": {},
   "outputs": [],
   "source": []
  },
  {
   "cell_type": "markdown",
   "id": "d7d64914-e241-43ee-be32-8b4bd597fada",
   "metadata": {},
   "source": [
    "# Context & Objectives"
   ]
  },
  {
   "cell_type": "markdown",
   "id": "9f7dcc27-8a5a-4e70-8d46-005512b7af7a",
   "metadata": {},
   "source": [
    "**Technical Objective:** Create a classifier to predict if a player will have career longer than 5 years.  \n",
    "\n",
    "**Business Objective:** Determine if a player is a good opportunity of investment or not.  \n",
    "\n",
    "* From the point of view of the investor it is important to identify as many good candidates as possible. This is translated into a model having a **_high recall_** for the positive class. A low recall model will limit the \"growth capacity\" of the investors.\n",
    "\n",
    "* But it is also important for the investor to avoid \"bad investments\" (believing a player's career will be longer than 5 years, when it is not). This is translated into a model that besides having high recall, must have a high precision. A low precision model will result in investments made on the wrong players, which can not only limit the growth capacity of the investor but can also incur important \"capital losses\".\n",
    "\n",
    "\n",
    "\n",
    "**Criteria for \"best model\":**\n",
    "* For finding a model with high recall and high precision, the f1-score is a good metric."
   ]
  },
  {
   "cell_type": "code",
   "execution_count": null,
   "id": "1964f0ec-df74-488b-858b-15a76ed8943c",
   "metadata": {},
   "outputs": [],
   "source": []
  },
  {
   "cell_type": "markdown",
   "id": "2c1020c1-2572-422e-928b-c39eaf9a4155",
   "metadata": {},
   "source": [
    "## Scoring Function"
   ]
  },
  {
   "cell_type": "code",
   "execution_count": 1,
   "id": "7ec8e9d8-5af1-4967-849a-fb7e43ef3f87",
   "metadata": {},
   "outputs": [],
   "source": [
    "import pandas as pd\n",
    "import numpy as np\n",
    "\n",
    "from sklearn.model_selection import StratifiedKFold\n",
    "\n",
    "from sklearn.metrics import confusion_matrix\n",
    "from sklearn.metrics import recall_score\n",
    "from sklearn.metrics import f1_score\n",
    "from sklearn.metrics import precision_score"
   ]
  },
  {
   "cell_type": "code",
   "execution_count": 61,
   "id": "5928c264-09dc-4c96-b727-8499266ae216",
   "metadata": {},
   "outputs": [],
   "source": [
    "def score_classifier(dataset,classifier,labels):\n",
    "\n",
    "    \"\"\"\n",
    "    performs 3 random trainings/tests to build a confusion matrix and prints results with precision and recall scores\n",
    "    :param dataset: the dataset to work on\n",
    "    :param classifier: the classifier to use\n",
    "    :param labels: the labels used for training and validation\n",
    "    :return:\n",
    "    \"\"\"\n",
    "\n",
    "    # kf = KFold(n_splits=3,random_state=50,shuffle=True)\n",
    "    kf = StratifiedKFold(n_splits=3,random_state=50,shuffle=True)    \n",
    "    confusion_mat = np.zeros((2,2))\n",
    "    recall, precision, f1 = 0, 0, 0\n",
    "\n",
    "    for training_ids,test_ids in kf.split(dataset,labels):\n",
    "        training_set = dataset[training_ids]\n",
    "        training_labels = labels[training_ids]\n",
    "\n",
    "        test_set = dataset[test_ids]\n",
    "        test_labels = labels[test_ids]\n",
    "\n",
    "        classifier.fit(training_set,training_labels)\n",
    "        predicted_labels = classifier.predict(test_set)\n",
    "\n",
    "        # confusion_mat = pd.crosstab(test_labels, predicted_labels, rownames = ['Reality'], colnames = ['predictions'])\n",
    "        confusion_mat+=confusion_matrix(test_labels,predicted_labels, labels=[0,1])\n",
    "        # recall += recall_score(test_labels, predicted_labels)\n",
    "        recall += recall_score(test_labels, predicted_labels, average='binary')\n",
    "        precision += precision_score(test_labels, predicted_labels, average='binary')\n",
    "        f1 += f1_score(test_labels, predicted_labels, average='binary')\n",
    "    \n",
    "    recall/=3\n",
    "    precision/=3\n",
    "    f1/=3\n",
    "\n",
    "    print(f\"recall: \\t{recall: .6f}\")\n",
    "    print(f\"precision: \\t{precision: .6f}\")\n",
    "    print(f\"f1 score: \\t{f1: .6f}\")\n",
    "    print(\"confusion matrix:\\n\",confusion_mat, '\\n')"
   ]
  },
  {
   "cell_type": "markdown",
   "id": "0d9e0dde-bcfc-4f12-85e4-138bfcf943bf",
   "metadata": {},
   "source": [
    "# Data Preprocessing"
   ]
  },
  {
   "cell_type": "code",
   "execution_count": 3,
   "id": "f3bccc85-9a82-49fb-8630-358eb4d07953",
   "metadata": {},
   "outputs": [
    {
     "data": {
      "text/html": [
       "<div>\n",
       "<style scoped>\n",
       "    .dataframe tbody tr th:only-of-type {\n",
       "        vertical-align: middle;\n",
       "    }\n",
       "\n",
       "    .dataframe tbody tr th {\n",
       "        vertical-align: top;\n",
       "    }\n",
       "\n",
       "    .dataframe thead th {\n",
       "        text-align: right;\n",
       "    }\n",
       "</style>\n",
       "<table border=\"1\" class=\"dataframe\">\n",
       "  <thead>\n",
       "    <tr style=\"text-align: right;\">\n",
       "      <th></th>\n",
       "      <th>Name</th>\n",
       "      <th>GP</th>\n",
       "      <th>MIN</th>\n",
       "      <th>PTS</th>\n",
       "      <th>FGM</th>\n",
       "      <th>FGA</th>\n",
       "      <th>FG%</th>\n",
       "      <th>3P Made</th>\n",
       "      <th>3PA</th>\n",
       "      <th>3P%</th>\n",
       "      <th>...</th>\n",
       "      <th>FTA</th>\n",
       "      <th>FT%</th>\n",
       "      <th>OREB</th>\n",
       "      <th>DREB</th>\n",
       "      <th>REB</th>\n",
       "      <th>AST</th>\n",
       "      <th>STL</th>\n",
       "      <th>BLK</th>\n",
       "      <th>TOV</th>\n",
       "      <th>TARGET_5Yrs</th>\n",
       "    </tr>\n",
       "  </thead>\n",
       "  <tbody>\n",
       "    <tr>\n",
       "      <th>0</th>\n",
       "      <td>Brandon Ingram</td>\n",
       "      <td>36</td>\n",
       "      <td>27.4</td>\n",
       "      <td>7.4</td>\n",
       "      <td>2.6</td>\n",
       "      <td>7.6</td>\n",
       "      <td>34.7</td>\n",
       "      <td>0.5</td>\n",
       "      <td>2.1</td>\n",
       "      <td>25.0</td>\n",
       "      <td>...</td>\n",
       "      <td>2.3</td>\n",
       "      <td>69.9</td>\n",
       "      <td>0.7</td>\n",
       "      <td>3.4</td>\n",
       "      <td>4.1</td>\n",
       "      <td>1.9</td>\n",
       "      <td>0.4</td>\n",
       "      <td>0.4</td>\n",
       "      <td>1.3</td>\n",
       "      <td>0.0</td>\n",
       "    </tr>\n",
       "    <tr>\n",
       "      <th>1</th>\n",
       "      <td>Andrew Harrison</td>\n",
       "      <td>35</td>\n",
       "      <td>26.9</td>\n",
       "      <td>7.2</td>\n",
       "      <td>2.0</td>\n",
       "      <td>6.7</td>\n",
       "      <td>29.6</td>\n",
       "      <td>0.7</td>\n",
       "      <td>2.8</td>\n",
       "      <td>23.5</td>\n",
       "      <td>...</td>\n",
       "      <td>3.4</td>\n",
       "      <td>76.5</td>\n",
       "      <td>0.5</td>\n",
       "      <td>2.0</td>\n",
       "      <td>2.4</td>\n",
       "      <td>3.7</td>\n",
       "      <td>1.1</td>\n",
       "      <td>0.5</td>\n",
       "      <td>1.6</td>\n",
       "      <td>0.0</td>\n",
       "    </tr>\n",
       "    <tr>\n",
       "      <th>2</th>\n",
       "      <td>JaKarr Sampson</td>\n",
       "      <td>74</td>\n",
       "      <td>15.3</td>\n",
       "      <td>5.2</td>\n",
       "      <td>2.0</td>\n",
       "      <td>4.7</td>\n",
       "      <td>42.2</td>\n",
       "      <td>0.4</td>\n",
       "      <td>1.7</td>\n",
       "      <td>24.4</td>\n",
       "      <td>...</td>\n",
       "      <td>1.3</td>\n",
       "      <td>67.0</td>\n",
       "      <td>0.5</td>\n",
       "      <td>1.7</td>\n",
       "      <td>2.2</td>\n",
       "      <td>1.0</td>\n",
       "      <td>0.5</td>\n",
       "      <td>0.3</td>\n",
       "      <td>1.0</td>\n",
       "      <td>0.0</td>\n",
       "    </tr>\n",
       "    <tr>\n",
       "      <th>3</th>\n",
       "      <td>Malik Sealy</td>\n",
       "      <td>58</td>\n",
       "      <td>11.6</td>\n",
       "      <td>5.7</td>\n",
       "      <td>2.3</td>\n",
       "      <td>5.5</td>\n",
       "      <td>42.6</td>\n",
       "      <td>0.1</td>\n",
       "      <td>0.5</td>\n",
       "      <td>22.6</td>\n",
       "      <td>...</td>\n",
       "      <td>1.3</td>\n",
       "      <td>68.9</td>\n",
       "      <td>1.0</td>\n",
       "      <td>0.9</td>\n",
       "      <td>1.9</td>\n",
       "      <td>0.8</td>\n",
       "      <td>0.6</td>\n",
       "      <td>0.1</td>\n",
       "      <td>1.0</td>\n",
       "      <td>1.0</td>\n",
       "    </tr>\n",
       "    <tr>\n",
       "      <th>4</th>\n",
       "      <td>Matt Geiger</td>\n",
       "      <td>48</td>\n",
       "      <td>11.5</td>\n",
       "      <td>4.5</td>\n",
       "      <td>1.6</td>\n",
       "      <td>3.0</td>\n",
       "      <td>52.4</td>\n",
       "      <td>0.0</td>\n",
       "      <td>0.1</td>\n",
       "      <td>0.0</td>\n",
       "      <td>...</td>\n",
       "      <td>1.9</td>\n",
       "      <td>67.4</td>\n",
       "      <td>1.0</td>\n",
       "      <td>1.5</td>\n",
       "      <td>2.5</td>\n",
       "      <td>0.3</td>\n",
       "      <td>0.3</td>\n",
       "      <td>0.4</td>\n",
       "      <td>0.8</td>\n",
       "      <td>1.0</td>\n",
       "    </tr>\n",
       "  </tbody>\n",
       "</table>\n",
       "<p>5 rows × 21 columns</p>\n",
       "</div>"
      ],
      "text/plain": [
       "              Name  GP   MIN  PTS  FGM  FGA   FG%  3P Made  3PA   3P%  ...  \\\n",
       "0   Brandon Ingram  36  27.4  7.4  2.6  7.6  34.7      0.5  2.1  25.0  ...   \n",
       "1  Andrew Harrison  35  26.9  7.2  2.0  6.7  29.6      0.7  2.8  23.5  ...   \n",
       "2   JaKarr Sampson  74  15.3  5.2  2.0  4.7  42.2      0.4  1.7  24.4  ...   \n",
       "3      Malik Sealy  58  11.6  5.7  2.3  5.5  42.6      0.1  0.5  22.6  ...   \n",
       "4      Matt Geiger  48  11.5  4.5  1.6  3.0  52.4      0.0  0.1   0.0  ...   \n",
       "\n",
       "   FTA   FT%  OREB  DREB  REB  AST  STL  BLK  TOV  TARGET_5Yrs  \n",
       "0  2.3  69.9   0.7   3.4  4.1  1.9  0.4  0.4  1.3          0.0  \n",
       "1  3.4  76.5   0.5   2.0  2.4  3.7  1.1  0.5  1.6          0.0  \n",
       "2  1.3  67.0   0.5   1.7  2.2  1.0  0.5  0.3  1.0          0.0  \n",
       "3  1.3  68.9   1.0   0.9  1.9  0.8  0.6  0.1  1.0          1.0  \n",
       "4  1.9  67.4   1.0   1.5  2.5  0.3  0.3  0.4  0.8          1.0  \n",
       "\n",
       "[5 rows x 21 columns]"
      ]
     },
     "execution_count": 3,
     "metadata": {},
     "output_type": "execute_result"
    }
   ],
   "source": [
    "## import raw data\n",
    "df = pd.read_csv(\".\\\\nba_logreg.csv\")\n",
    "df.head()"
   ]
  },
  {
   "cell_type": "code",
   "execution_count": null,
   "id": "0ff48620-58f6-40de-942f-38258b7798e6",
   "metadata": {},
   "outputs": [],
   "source": []
  },
  {
   "cell_type": "markdown",
   "id": "6689ff34-90ec-412c-a9aa-6a9832df7cb3",
   "metadata": {},
   "source": [
    "#### Clean dataset"
   ]
  },
  {
   "cell_type": "code",
   "execution_count": 4,
   "id": "e410d732-9ff2-45dd-aafd-e1885ad68c0b",
   "metadata": {},
   "outputs": [],
   "source": [
    "## Remove simple duplicates\n",
    "df.drop_duplicates(inplace = True)\n",
    "\n",
    "## Remove inconsistent observations\n",
    "inconsistents = df.drop('TARGET_5Yrs', axis = 1).duplicated()\n",
    "df.drop(df.loc[inconsistents,:].index, axis=0, inplace=True)\n",
    "\n",
    "# replacing Nan values (only present when no 3 points attempts have been performed by a player)\n",
    "df.fillna(0.0, inplace=True)"
   ]
  },
  {
   "cell_type": "code",
   "execution_count": null,
   "id": "8c867d5f-3cda-46cf-9d3f-9c5baa893687",
   "metadata": {},
   "outputs": [],
   "source": []
  },
  {
   "cell_type": "markdown",
   "id": "3d8040a1-682f-4bcd-b5f9-0cc827a7b004",
   "metadata": {},
   "source": [
    "#### Drop non relevant features (Optional)"
   ]
  },
  {
   "cell_type": "code",
   "execution_count": 5,
   "id": "9ca92485-2d23-49ee-8ea7-10362500f8fe",
   "metadata": {},
   "outputs": [
    {
     "data": {
      "text/html": [
       "<div>\n",
       "<style scoped>\n",
       "    .dataframe tbody tr th:only-of-type {\n",
       "        vertical-align: middle;\n",
       "    }\n",
       "\n",
       "    .dataframe tbody tr th {\n",
       "        vertical-align: top;\n",
       "    }\n",
       "\n",
       "    .dataframe thead th {\n",
       "        text-align: right;\n",
       "    }\n",
       "</style>\n",
       "<table border=\"1\" class=\"dataframe\">\n",
       "  <thead>\n",
       "    <tr style=\"text-align: right;\">\n",
       "      <th></th>\n",
       "      <th>Name</th>\n",
       "      <th>GP</th>\n",
       "      <th>MIN</th>\n",
       "      <th>PTS</th>\n",
       "      <th>FGM</th>\n",
       "      <th>FGA</th>\n",
       "      <th>FG%</th>\n",
       "      <th>3P Made</th>\n",
       "      <th>3PA</th>\n",
       "      <th>3P%</th>\n",
       "      <th>...</th>\n",
       "      <th>FTA</th>\n",
       "      <th>FT%</th>\n",
       "      <th>OREB</th>\n",
       "      <th>DREB</th>\n",
       "      <th>REB</th>\n",
       "      <th>AST</th>\n",
       "      <th>STL</th>\n",
       "      <th>BLK</th>\n",
       "      <th>TOV</th>\n",
       "      <th>TARGET_5Yrs</th>\n",
       "    </tr>\n",
       "  </thead>\n",
       "  <tbody>\n",
       "    <tr>\n",
       "      <th>0</th>\n",
       "      <td>Brandon Ingram</td>\n",
       "      <td>36</td>\n",
       "      <td>27.4</td>\n",
       "      <td>7.4</td>\n",
       "      <td>2.6</td>\n",
       "      <td>7.6</td>\n",
       "      <td>34.7</td>\n",
       "      <td>0.5</td>\n",
       "      <td>2.1</td>\n",
       "      <td>25.0</td>\n",
       "      <td>...</td>\n",
       "      <td>2.3</td>\n",
       "      <td>69.9</td>\n",
       "      <td>0.7</td>\n",
       "      <td>3.4</td>\n",
       "      <td>4.1</td>\n",
       "      <td>1.9</td>\n",
       "      <td>0.4</td>\n",
       "      <td>0.4</td>\n",
       "      <td>1.3</td>\n",
       "      <td>0.0</td>\n",
       "    </tr>\n",
       "    <tr>\n",
       "      <th>1</th>\n",
       "      <td>Andrew Harrison</td>\n",
       "      <td>35</td>\n",
       "      <td>26.9</td>\n",
       "      <td>7.2</td>\n",
       "      <td>2.0</td>\n",
       "      <td>6.7</td>\n",
       "      <td>29.6</td>\n",
       "      <td>0.7</td>\n",
       "      <td>2.8</td>\n",
       "      <td>23.5</td>\n",
       "      <td>...</td>\n",
       "      <td>3.4</td>\n",
       "      <td>76.5</td>\n",
       "      <td>0.5</td>\n",
       "      <td>2.0</td>\n",
       "      <td>2.4</td>\n",
       "      <td>3.7</td>\n",
       "      <td>1.1</td>\n",
       "      <td>0.5</td>\n",
       "      <td>1.6</td>\n",
       "      <td>0.0</td>\n",
       "    </tr>\n",
       "    <tr>\n",
       "      <th>2</th>\n",
       "      <td>JaKarr Sampson</td>\n",
       "      <td>74</td>\n",
       "      <td>15.3</td>\n",
       "      <td>5.2</td>\n",
       "      <td>2.0</td>\n",
       "      <td>4.7</td>\n",
       "      <td>42.2</td>\n",
       "      <td>0.4</td>\n",
       "      <td>1.7</td>\n",
       "      <td>24.4</td>\n",
       "      <td>...</td>\n",
       "      <td>1.3</td>\n",
       "      <td>67.0</td>\n",
       "      <td>0.5</td>\n",
       "      <td>1.7</td>\n",
       "      <td>2.2</td>\n",
       "      <td>1.0</td>\n",
       "      <td>0.5</td>\n",
       "      <td>0.3</td>\n",
       "      <td>1.0</td>\n",
       "      <td>0.0</td>\n",
       "    </tr>\n",
       "    <tr>\n",
       "      <th>3</th>\n",
       "      <td>Malik Sealy</td>\n",
       "      <td>58</td>\n",
       "      <td>11.6</td>\n",
       "      <td>5.7</td>\n",
       "      <td>2.3</td>\n",
       "      <td>5.5</td>\n",
       "      <td>42.6</td>\n",
       "      <td>0.1</td>\n",
       "      <td>0.5</td>\n",
       "      <td>22.6</td>\n",
       "      <td>...</td>\n",
       "      <td>1.3</td>\n",
       "      <td>68.9</td>\n",
       "      <td>1.0</td>\n",
       "      <td>0.9</td>\n",
       "      <td>1.9</td>\n",
       "      <td>0.8</td>\n",
       "      <td>0.6</td>\n",
       "      <td>0.1</td>\n",
       "      <td>1.0</td>\n",
       "      <td>1.0</td>\n",
       "    </tr>\n",
       "    <tr>\n",
       "      <th>4</th>\n",
       "      <td>Matt Geiger</td>\n",
       "      <td>48</td>\n",
       "      <td>11.5</td>\n",
       "      <td>4.5</td>\n",
       "      <td>1.6</td>\n",
       "      <td>3.0</td>\n",
       "      <td>52.4</td>\n",
       "      <td>0.0</td>\n",
       "      <td>0.1</td>\n",
       "      <td>0.0</td>\n",
       "      <td>...</td>\n",
       "      <td>1.9</td>\n",
       "      <td>67.4</td>\n",
       "      <td>1.0</td>\n",
       "      <td>1.5</td>\n",
       "      <td>2.5</td>\n",
       "      <td>0.3</td>\n",
       "      <td>0.3</td>\n",
       "      <td>0.4</td>\n",
       "      <td>0.8</td>\n",
       "      <td>1.0</td>\n",
       "    </tr>\n",
       "  </tbody>\n",
       "</table>\n",
       "<p>5 rows × 21 columns</p>\n",
       "</div>"
      ],
      "text/plain": [
       "              Name  GP   MIN  PTS  FGM  FGA   FG%  3P Made  3PA   3P%  ...  \\\n",
       "0   Brandon Ingram  36  27.4  7.4  2.6  7.6  34.7      0.5  2.1  25.0  ...   \n",
       "1  Andrew Harrison  35  26.9  7.2  2.0  6.7  29.6      0.7  2.8  23.5  ...   \n",
       "2   JaKarr Sampson  74  15.3  5.2  2.0  4.7  42.2      0.4  1.7  24.4  ...   \n",
       "3      Malik Sealy  58  11.6  5.7  2.3  5.5  42.6      0.1  0.5  22.6  ...   \n",
       "4      Matt Geiger  48  11.5  4.5  1.6  3.0  52.4      0.0  0.1   0.0  ...   \n",
       "\n",
       "   FTA   FT%  OREB  DREB  REB  AST  STL  BLK  TOV  TARGET_5Yrs  \n",
       "0  2.3  69.9   0.7   3.4  4.1  1.9  0.4  0.4  1.3          0.0  \n",
       "1  3.4  76.5   0.5   2.0  2.4  3.7  1.1  0.5  1.6          0.0  \n",
       "2  1.3  67.0   0.5   1.7  2.2  1.0  0.5  0.3  1.0          0.0  \n",
       "3  1.3  68.9   1.0   0.9  1.9  0.8  0.6  0.1  1.0          1.0  \n",
       "4  1.9  67.4   1.0   1.5  2.5  0.3  0.3  0.4  0.8          1.0  \n",
       "\n",
       "[5 rows x 21 columns]"
      ]
     },
     "execution_count": 5,
     "metadata": {},
     "output_type": "execute_result"
    }
   ],
   "source": [
    "# irrelevant_features = ['FGA', '3PA', 'FTA', 'REB', 'FT%', '3P Made', '3PA']  ## from the correlation matrix insgihts\n",
    "# irrelevant_features = ['3P Made', '3PA']  ## from the statistical tests insights\n",
    "irrelevant_features = []\n",
    "\n",
    "df.drop(irrelevant_features, axis=1, inplace=True)\n",
    "\n",
    "df.head()"
   ]
  },
  {
   "cell_type": "code",
   "execution_count": null,
   "id": "f5c8489c-43e0-429e-b768-95a347b7d667",
   "metadata": {},
   "outputs": [],
   "source": []
  },
  {
   "cell_type": "markdown",
   "id": "e1eea46c-653d-4e64-9297-62f601eb3f51",
   "metadata": {},
   "source": [
    "# Data transformation"
   ]
  },
  {
   "cell_type": "markdown",
   "id": "8de68393-7545-492d-a398-01d665a5a215",
   "metadata": {},
   "source": [
    "#### Separate features & target"
   ]
  },
  {
   "cell_type": "code",
   "execution_count": 6,
   "id": "5633ebd6-09cf-416f-ad81-3b27f3ef3c93",
   "metadata": {},
   "outputs": [
    {
     "name": "stdout",
     "output_type": "stream",
     "text": [
      "<class 'pandas.core.frame.DataFrame'>\n",
      "<class 'pandas.core.series.Series'>\n"
     ]
    }
   ],
   "source": [
    "features = df.drop(['TARGET_5Yrs'], axis=1)\n",
    "target = df['TARGET_5Yrs']\n",
    "\n",
    "print(type(features))\n",
    "print(type(target))"
   ]
  },
  {
   "cell_type": "code",
   "execution_count": null,
   "id": "e10ee8c9-07ad-4389-b9ac-85fd2b9fecd0",
   "metadata": {},
   "outputs": [],
   "source": []
  },
  {
   "cell_type": "markdown",
   "id": "efba91f7-6aba-455b-b14e-65f1c1c642d8",
   "metadata": {},
   "source": [
    "#### Split Train & Test dataset"
   ]
  },
  {
   "cell_type": "code",
   "execution_count": 7,
   "id": "f52ebec6-d04e-425d-9fe0-89983fa06c5a",
   "metadata": {},
   "outputs": [],
   "source": [
    "from sklearn.model_selection import train_test_split\n",
    "\n",
    "data_train, data_test, y_train, y_test = train_test_split(features, target, test_size=0.2, shuffle=True, random_state=123)\n"
   ]
  },
  {
   "cell_type": "code",
   "execution_count": 8,
   "id": "0bf16c82-40a1-4674-ab49-86387c98208e",
   "metadata": {},
   "outputs": [
    {
     "data": {
      "text/plain": [
       "TARGET_5Yrs\n",
       "1.0    0.620459\n",
       "0.0    0.379541\n",
       "Name: proportion, dtype: float64"
      ]
     },
     "execution_count": 8,
     "metadata": {},
     "output_type": "execute_result"
    }
   ],
   "source": [
    "## verify that proportion in the splits are more or less the same\n",
    "y_train.value_counts(normalize=True)"
   ]
  },
  {
   "cell_type": "code",
   "execution_count": null,
   "id": "fcfb631a-ea93-4279-bac0-4f1d9f6f7323",
   "metadata": {},
   "outputs": [],
   "source": []
  },
  {
   "cell_type": "markdown",
   "id": "0aade69e-56f6-4648-bd85-d4fb32f62977",
   "metadata": {},
   "source": [
    "#### data formating: dataframes -> arrays \n",
    "* get feature names, feature values, target labels, players names, etc"
   ]
  },
  {
   "cell_type": "code",
   "execution_count": 9,
   "id": "ace1fa6d-bec9-4ad7-b91d-90e7d63d2126",
   "metadata": {},
   "outputs": [],
   "source": [
    "# feature names (same for train and test datasets)\n",
    "paramset = data_train.drop(['Name'],axis=1).columns.values\n",
    "\n",
    "# extract player names, target values (labels) and train values\n",
    "names_train = data_train['Name'].values.tolist()\n",
    "labels_train = y_train.values\n",
    "X_train_vals = data_train.drop(['Name'],axis=1).values"
   ]
  },
  {
   "cell_type": "code",
   "execution_count": 10,
   "id": "731b4567-10a7-4a55-9213-bc30dc61f1d5",
   "metadata": {},
   "outputs": [],
   "source": [
    "## Same for test dataset\n",
    "\n",
    "# extract player names, target values (labels) and train values\n",
    "names_test = data_test['Name'].values.tolist()\n",
    "labels_test = y_test.values\n",
    "X_test_vals = data_test.drop(['Name'],axis=1).values"
   ]
  },
  {
   "cell_type": "markdown",
   "id": "aae1aa50-7af4-4c07-b8fe-6ac8b7c8dfcb",
   "metadata": {},
   "source": [
    "#### Normalize datasets\n",
    "* Scale data to [0-1] range"
   ]
  },
  {
   "cell_type": "code",
   "execution_count": 11,
   "id": "f4cea91d-b903-4485-bcc6-12125272c226",
   "metadata": {},
   "outputs": [],
   "source": [
    "from sklearn.preprocessing import MinMaxScaler\n",
    "scaler = MinMaxScaler()\n",
    "\n",
    "# fit scaler with the training set\n",
    "X_train = scaler.fit_transform(X_train_vals)\n",
    "\n",
    "# tranform the test data with the same scaler\n",
    "X_test = scaler.transform(X_test_vals)"
   ]
  },
  {
   "cell_type": "code",
   "execution_count": null,
   "id": "d9d8f623-409b-448e-afb2-ebad00bc77c4",
   "metadata": {},
   "outputs": [],
   "source": []
  },
  {
   "cell_type": "markdown",
   "id": "cfdab3a7-4eb3-4ac3-8ced-351be7334b02",
   "metadata": {},
   "source": [
    "# Null Model"
   ]
  },
  {
   "cell_type": "markdown",
   "id": "bfc87904-d960-4864-a3f8-6fbde2310739",
   "metadata": {},
   "source": [
    "The Null model will predict always the moss common class seen on the training dataset."
   ]
  },
  {
   "cell_type": "code",
   "execution_count": 12,
   "id": "753fd63e-5146-41c7-9265-6f5d6268b889",
   "metadata": {},
   "outputs": [
    {
     "data": {
      "text/plain": [
       "TARGET_5Yrs\n",
       "1.0    649\n",
       "0.0    397\n",
       "Name: count, dtype: int64"
      ]
     },
     "execution_count": 12,
     "metadata": {},
     "output_type": "execute_result"
    }
   ],
   "source": [
    "## visualize most common class\n",
    "y_train.value_counts()"
   ]
  },
  {
   "cell_type": "code",
   "execution_count": 13,
   "id": "007b7a2e-5db2-498c-b346-1e654ee04d23",
   "metadata": {},
   "outputs": [],
   "source": [
    "## define null model object\n",
    "class null_model:\n",
    "    def __init__(self):\n",
    "        self.prediction = None\n",
    "\n",
    "    def fit(self, X_train, y_train):\n",
    "        dominant_class = pd.Series(y_train).value_counts().idxmax()\n",
    "        self.prediction = dominant_class\n",
    "\n",
    "    def predict(self, X_test):\n",
    "        num_obs = len(X_test)\n",
    "        return np.array([self.prediction for _ in range(num_obs)])"
   ]
  },
  {
   "cell_type": "code",
   "execution_count": 14,
   "id": "c3e0be3f-d8b1-4c08-bac8-4d194a27c99d",
   "metadata": {},
   "outputs": [],
   "source": [
    "## Instantiate model, train it \n",
    "clf_null = null_model()\n",
    "clf_null.fit(X_train, y_train)\n",
    "\n",
    "\n",
    "## make new predictions\n",
    "labels_pred = clf_null.predict(X_test)"
   ]
  },
  {
   "cell_type": "markdown",
   "id": "b28757e3-9d85-46e3-8398-6506394db5b3",
   "metadata": {},
   "source": [
    "**Null model scoring on _train set_:**"
   ]
  },
  {
   "cell_type": "code",
   "execution_count": 15,
   "id": "813aba9d-a13c-4e96-aea6-065c2a0cca42",
   "metadata": {},
   "outputs": [
    {
     "name": "stdout",
     "output_type": "stream",
     "text": [
      "===== Null model =====\n",
      "[[  0. 397.]\n",
      " [  0. 649.]]\n",
      "recall: 1.0\n",
      "precision: 0.6204591114185027\n",
      "f1 score: 0.7657812230056115\n",
      "\n",
      "\n"
     ]
    }
   ],
   "source": [
    "## Scoring function on train set\n",
    "\n",
    "print(f\"===== Null model =====\")\n",
    "score_classifier(X_train, clf_null, labels_train)\n",
    "print(\"\\n\")"
   ]
  },
  {
   "cell_type": "markdown",
   "id": "4e9397a7-2615-4485-a9fb-b1175aada72d",
   "metadata": {},
   "source": [
    "**Null model evaluation on _test set_:**"
   ]
  },
  {
   "cell_type": "code",
   "execution_count": 16,
   "id": "87dcc5b3-66f6-4eab-868e-3443484d28ad",
   "metadata": {},
   "outputs": [
    {
     "data": {
      "text/html": [
       "<div>\n",
       "<style scoped>\n",
       "    .dataframe tbody tr th:only-of-type {\n",
       "        vertical-align: middle;\n",
       "    }\n",
       "\n",
       "    .dataframe tbody tr th {\n",
       "        vertical-align: top;\n",
       "    }\n",
       "\n",
       "    .dataframe thead th {\n",
       "        text-align: right;\n",
       "    }\n",
       "</style>\n",
       "<table border=\"1\" class=\"dataframe\">\n",
       "  <thead>\n",
       "    <tr style=\"text-align: right;\">\n",
       "      <th>Prediction</th>\n",
       "      <th>1.0</th>\n",
       "    </tr>\n",
       "    <tr>\n",
       "      <th>Reality</th>\n",
       "      <th></th>\n",
       "    </tr>\n",
       "  </thead>\n",
       "  <tbody>\n",
       "    <tr>\n",
       "      <th>0.0</th>\n",
       "      <td>95</td>\n",
       "    </tr>\n",
       "    <tr>\n",
       "      <th>1.0</th>\n",
       "      <td>167</td>\n",
       "    </tr>\n",
       "  </tbody>\n",
       "</table>\n",
       "</div>"
      ],
      "text/plain": [
       "Prediction  1.0\n",
       "Reality        \n",
       "0.0          95\n",
       "1.0         167"
      ]
     },
     "metadata": {},
     "output_type": "display_data"
    },
    {
     "name": "stdout",
     "output_type": "stream",
     "text": [
      "              precision    recall  f1-score   support\n",
      "\n",
      "         0.0       0.00      0.00      0.00        95\n",
      "         1.0       0.64      1.00      0.78       167\n",
      "\n",
      "    accuracy                           0.64       262\n",
      "   macro avg       0.32      0.50      0.39       262\n",
      "weighted avg       0.41      0.64      0.50       262\n",
      "\n"
     ]
    },
    {
     "name": "stderr",
     "output_type": "stream",
     "text": [
      "C:\\Ramiro\\NBA_players\\venv\\lib\\site-packages\\sklearn\\metrics\\_classification.py:1531: UndefinedMetricWarning: Precision is ill-defined and being set to 0.0 in labels with no predicted samples. Use `zero_division` parameter to control this behavior.\n",
      "  _warn_prf(average, modifier, f\"{metric.capitalize()} is\", len(result))\n",
      "C:\\Ramiro\\NBA_players\\venv\\lib\\site-packages\\sklearn\\metrics\\_classification.py:1531: UndefinedMetricWarning: Precision is ill-defined and being set to 0.0 in labels with no predicted samples. Use `zero_division` parameter to control this behavior.\n",
      "  _warn_prf(average, modifier, f\"{metric.capitalize()} is\", len(result))\n",
      "C:\\Ramiro\\NBA_players\\venv\\lib\\site-packages\\sklearn\\metrics\\_classification.py:1531: UndefinedMetricWarning: Precision is ill-defined and being set to 0.0 in labels with no predicted samples. Use `zero_division` parameter to control this behavior.\n",
      "  _warn_prf(average, modifier, f\"{metric.capitalize()} is\", len(result))\n"
     ]
    }
   ],
   "source": [
    "## Evaluate performance on test set\n",
    "cm = pd.crosstab(labels_test, labels_pred, rownames = ['Reality'], colnames = ['Prediction'])\n",
    "display(cm)\n",
    "\n",
    "\n",
    "## detailed report\n",
    "from sklearn.metrics import classification_report\n",
    "cr = classification_report(labels_test, labels_pred)\n",
    "print(cr)\n"
   ]
  },
  {
   "cell_type": "code",
   "execution_count": null,
   "id": "0ac50ec8-3356-4591-8116-c4b40eed70d1",
   "metadata": {},
   "outputs": [],
   "source": []
  },
  {
   "cell_type": "markdown",
   "id": "113972b6-ee6e-48e5-b6fa-2f7752cdbdc3",
   "metadata": {},
   "source": [
    "# Base models"
   ]
  },
  {
   "cell_type": "code",
   "execution_count": 22,
   "id": "7e83043c-b844-4842-850c-86b897ee8c76",
   "metadata": {},
   "outputs": [],
   "source": [
    "from sklearn.linear_model import LogisticRegression\n",
    "from sklearn.svm import SVC\n",
    "from sklearn.tree import DecisionTreeClassifier\n",
    "from sklearn.neighbors import KNeighborsClassifier\n",
    "\n",
    "from sklearn.ensemble import RandomForestClassifier\n",
    "\n",
    "from sklearn.model_selection import GridSearchCV"
   ]
  },
  {
   "cell_type": "markdown",
   "id": "ff1068ed-e6d9-4d70-b9d0-e6f2a7ff5268",
   "metadata": {},
   "source": [
    "### Logistic regression"
   ]
  },
  {
   "cell_type": "code",
   "execution_count": 23,
   "id": "d3b169c2-9c1e-4b56-919c-842a474f310f",
   "metadata": {},
   "outputs": [
    {
     "name": "stdout",
     "output_type": "stream",
     "text": [
      "        params  mean_test_accuracy  mean_test_f1  mean_test_recall\n",
      "0   {'C': 0.7}            0.706494      0.776662          0.822886\n",
      "1   {'C': 0.9}            0.711269      0.779862          0.824413\n",
      "2     {'C': 1}            0.711269      0.780186          0.825951\n",
      "3     {'C': 2}            0.712231      0.780688          0.825951\n",
      "4     {'C': 3}            0.714135      0.782565          0.829028\n",
      "5     {'C': 4}            0.715092      0.782482          0.825951\n",
      "6     {'C': 5}            0.715088      0.781806          0.822874\n",
      "7     {'C': 6}            0.712221      0.780063          0.822874\n",
      "8     {'C': 7}            0.714135      0.780879          0.821336\n",
      "9     {'C': 8}            0.714135      0.780879          0.821336\n",
      "10    {'C': 9}            0.710312      0.778318          0.819785\n",
      "11   {'C': 10}            0.712226      0.779432          0.819785 \n",
      "\n",
      "Best params: {'C': 3}\n"
     ]
    }
   ],
   "source": [
    "## instantiate model\n",
    "clf = LogisticRegression()  \n",
    "\n",
    "## grid search pre-optimization\n",
    "params = {'C' : [0.7,0.9,1,2,3,4,5,6,7,8,9,10]}\n",
    "\n",
    "grid_clf = GridSearchCV(estimator = clf, \n",
    "                        param_grid = params, \n",
    "                        scoring = ['accuracy','f1', 'recall'], \n",
    "                        refit='f1')\n",
    "\n",
    "grid = grid_clf.fit(X_train, labels_train)\n",
    "\n",
    "print(pd.DataFrame.from_dict(grid.cv_results_).loc[:,['params', 'mean_test_accuracy', 'mean_test_f1', 'mean_test_recall']], '\\n')\n",
    "\n",
    "\n",
    "## Keep best model\n",
    "clf_lr = grid_clf.best_estimator_\n",
    "print(\"Best params:\", grid_clf.best_params_)"
   ]
  },
  {
   "cell_type": "markdown",
   "id": "ba4cfe16-c4bb-40ce-9664-f1c580f82705",
   "metadata": {},
   "source": [
    "### Support Vector Machine"
   ]
  },
  {
   "cell_type": "code",
   "execution_count": 24,
   "id": "ccb096a4-8436-4c10-b393-84b513a11a76",
   "metadata": {},
   "outputs": [
    {
     "name": "stdout",
     "output_type": "stream",
     "text": [
      "                                        params  mean_test_accuracy  \\\n",
      "0   {'C': 0.1, 'gamma': 0.01, 'kernel': 'rbf'}            0.620460   \n",
      "1    {'C': 0.1, 'gamma': 0.1, 'kernel': 'rbf'}            0.620460   \n",
      "2    {'C': 0.1, 'gamma': 0.5, 'kernel': 'rbf'}            0.698847   \n",
      "3    {'C': 0.1, 'gamma': 1.0, 'kernel': 'rbf'}            0.707450   \n",
      "4    {'C': 0.1, 'gamma': 2.0, 'kernel': 'rbf'}            0.700761   \n",
      "5     {'C': 1, 'gamma': 0.01, 'kernel': 'rbf'}            0.620460   \n",
      "6      {'C': 1, 'gamma': 0.1, 'kernel': 'rbf'}            0.706498   \n",
      "7      {'C': 1, 'gamma': 0.5, 'kernel': 'rbf'}            0.710303   \n",
      "8      {'C': 1, 'gamma': 1.0, 'kernel': 'rbf'}            0.708416   \n",
      "9      {'C': 1, 'gamma': 2.0, 'kernel': 'rbf'}            0.704598   \n",
      "10   {'C': 10, 'gamma': 0.01, 'kernel': 'rbf'}            0.707455   \n",
      "11    {'C': 10, 'gamma': 0.1, 'kernel': 'rbf'}            0.711265   \n",
      "12    {'C': 10, 'gamma': 0.5, 'kernel': 'rbf'}            0.717015   \n",
      "13    {'C': 10, 'gamma': 1.0, 'kernel': 'rbf'}            0.703636   \n",
      "14    {'C': 10, 'gamma': 2.0, 'kernel': 'rbf'}            0.695981   \n",
      "\n",
      "    mean_test_f1  mean_test_recall  \n",
      "0       0.765781          1.000000  \n",
      "1       0.765781          1.000000  \n",
      "2       0.773829          0.830578  \n",
      "3       0.775566          0.815182  \n",
      "4       0.772416          0.819821  \n",
      "5       0.765781          1.000000  \n",
      "6       0.774099          0.810555  \n",
      "7       0.776535          0.810531  \n",
      "8       0.773868          0.804365  \n",
      "9       0.770959          0.802850  \n",
      "10      0.773886          0.807490  \n",
      "11      0.776668          0.809004  \n",
      "12      0.781716          0.816696  \n",
      "13      0.768559          0.793584  \n",
      "14      0.759919          0.775051   \n",
      "\n",
      "Best params: {'C': 10, 'gamma': 0.5, 'kernel': 'rbf'}\n"
     ]
    }
   ],
   "source": [
    "## instantiate model\n",
    "clf = SVC()  \n",
    "\n",
    "## grid search pre-optimization\n",
    "params = {'C' : [0.1,1,10],\n",
    "          'kernel' : ['rbf'],\n",
    "          'gamma'  : [0.01, 0.1, 0.5, 1.0, 2.0]}\n",
    "\n",
    "grid_clf = GridSearchCV(estimator = clf, \n",
    "                        param_grid = params, \n",
    "                        scoring = ['accuracy','f1', 'recall'], \n",
    "                        refit='f1')\n",
    "\n",
    "grid = grid_clf.fit(X_train, labels_train)\n",
    "\n",
    "print(pd.DataFrame.from_dict(grid.cv_results_).loc[:,['params', 'mean_test_accuracy', 'mean_test_f1', 'mean_test_recall']], '\\n')\n",
    "\n",
    "\n",
    "## Keep best model\n",
    "clf_svc = grid_clf.best_estimator_\n",
    "print(\"Best params:\", grid_clf.best_params_)"
   ]
  },
  {
   "cell_type": "code",
   "execution_count": 30,
   "id": "b5f26046-3637-4c86-b882-da37f3d77da4",
   "metadata": {},
   "outputs": [],
   "source": [
    "# other interesting models:\n",
    "clf_svc_2 = SVC(C= 0.1, gamma= 0.5, kernel= 'rbf')\n",
    "clf_svc_3 = SVC(C= 1, gamma= 0.01, kernel= 'rbf')    # this is probable as the null model\n"
   ]
  },
  {
   "cell_type": "markdown",
   "id": "87b5a8b6-2f1c-4dc1-97bf-e143eb576b9d",
   "metadata": {},
   "source": [
    "### K-Neighbors"
   ]
  },
  {
   "cell_type": "code",
   "execution_count": 31,
   "id": "3b888927-0638-4d37-98ce-f7873bdfcc0d",
   "metadata": {},
   "outputs": [
    {
     "name": "stdout",
     "output_type": "stream",
     "text": [
      "                params  mean_test_accuracy  mean_test_f1  mean_test_recall\n",
      "0   {'n_neighbors': 3}            0.651069      0.725363          0.744234\n",
      "1   {'n_neighbors': 5}            0.665377      0.736273          0.753465\n",
      "2  {'n_neighbors': 10}            0.677817      0.735429          0.722671\n",
      "3  {'n_neighbors': 12}            0.688348      0.747482          0.744234\n",
      "4  {'n_neighbors': 15}            0.683563      0.755224          0.787382\n",
      "5  {'n_neighbors': 17}            0.686434      0.756349          0.785832\n",
      "6  {'n_neighbors': 20}            0.684520      0.747515          0.753441\n",
      "7  {'n_neighbors': 24}            0.686448      0.748041          0.751938 \n",
      "\n",
      "Best params: {'n_neighbors': 17}\n"
     ]
    }
   ],
   "source": [
    "## instantiate model\n",
    "clf = KNeighborsClassifier()  \n",
    "\n",
    "## grid search pre-optimization\n",
    "params = {'n_neighbors' : [3,5,10,12,15,17,20,24]}\n",
    "\n",
    "grid_clf = GridSearchCV(estimator = clf, \n",
    "                        param_grid = params, \n",
    "                        scoring = ['accuracy','f1', 'recall'], \n",
    "                        refit='f1')\n",
    "\n",
    "grid = grid_clf.fit(X_train, labels_train)\n",
    "\n",
    "print(pd.DataFrame.from_dict(grid.cv_results_).loc[:,['params', 'mean_test_accuracy', 'mean_test_f1', 'mean_test_recall']], '\\n')\n",
    "\n",
    "\n",
    "## Keep best model\n",
    "clf_knn = grid_clf.best_estimator_\n",
    "print(\"Best params:\", grid_clf.best_params_)"
   ]
  },
  {
   "cell_type": "code",
   "execution_count": null,
   "id": "f199587b-1fea-4bb5-9d6c-031f44b5a778",
   "metadata": {},
   "outputs": [],
   "source": []
  },
  {
   "cell_type": "markdown",
   "id": "f2176fe3-9004-4c44-8207-48628f4f47fa",
   "metadata": {},
   "source": [
    "# Compared pre-selected Base models"
   ]
  },
  {
   "cell_type": "code",
   "execution_count": 63,
   "id": "a3030eec-c3bf-4a7e-9f66-614e7d25f225",
   "metadata": {},
   "outputs": [
    {
     "name": "stdout",
     "output_type": "stream",
     "text": [
      "===== Null model =====\n",
      "recall: \t 1.000000\n",
      "precision: \t 0.620459\n",
      "f1 score: \t 0.765781\n",
      "confusion matrix:\n",
      " [[  0. 397.]\n",
      " [  0. 649.]] \n",
      "\n",
      "\n",
      "\n",
      "===== logistic regression =====\n",
      "recall: \t 0.825880\n",
      "precision: \t 0.738019\n",
      "f1 score: \t 0.779218\n",
      "confusion matrix:\n",
      " [[206. 191.]\n",
      " [113. 536.]] \n",
      "\n",
      "\n",
      "\n",
      "===== support vectors =====\n",
      "recall: \t 0.816721\n",
      "precision: \t 0.747373\n",
      "f1 score: \t 0.779672\n",
      "confusion matrix:\n",
      " [[217. 180.]\n",
      " [119. 530.]] \n",
      "\n",
      "\n",
      "\n",
      "===== k-neighbors =====\n",
      "recall: \t 0.776654\n",
      "precision: \t 0.721764\n",
      "f1 score: \t 0.747355\n",
      "confusion matrix:\n",
      " [[202. 195.]\n",
      " [145. 504.]] \n",
      "\n",
      "\n",
      "\n"
     ]
    }
   ],
   "source": [
    "models = [('Null model', clf_null),\n",
    "          ('logistic regression', clf_lr),\n",
    "          ('support vectors', clf_svc), \n",
    "          ('k-neighbors', clf_knn)]\n",
    "\n",
    "for model_name, clf in models:\n",
    "    print(f\"===== {model_name} =====\")\n",
    "    score_classifier(X_train, clf, labels_train)\n",
    "    print(\"\\n\")"
   ]
  },
  {
   "cell_type": "markdown",
   "id": "b6a356e3-8a43-4dcf-b26b-c83fcd915956",
   "metadata": {},
   "source": [
    "# Select best model\n",
    "* Support vectors machine has the highµest f1-score"
   ]
  },
  {
   "cell_type": "code",
   "execution_count": 35,
   "id": "f0f6c91d-4ec6-4ceb-8950-a8b63c682a4f",
   "metadata": {},
   "outputs": [],
   "source": [
    "best_model = clf_svc"
   ]
  },
  {
   "cell_type": "code",
   "execution_count": 36,
   "id": "e7269d32-ce37-4936-b93e-d6cfb101705e",
   "metadata": {},
   "outputs": [],
   "source": [
    "## instantiate new model\n",
    "best_params = best_model.get_params()\n",
    "best_params['probability'] = True\n",
    "\n",
    "clf_best = SVC(**best_params)\n",
    "\n",
    "\n",
    "## Re-train the best model on the entire training dataset\n",
    "clf_best.fit(X_train, labels_train)\n",
    "\n",
    "## make prediction\n",
    "labels_pred = clf_best.predict(X_test)\n",
    "proba_pred = clf_best.predict_proba(X_test)"
   ]
  },
  {
   "cell_type": "markdown",
   "id": "a14b0f4c-1e55-4ab2-a75b-ccf30ceccc2d",
   "metadata": {},
   "source": [
    "# Best model Evaluation"
   ]
  },
  {
   "cell_type": "code",
   "execution_count": 39,
   "id": "0e7eb0e2-83cd-4465-97db-3fe041227d3a",
   "metadata": {},
   "outputs": [
    {
     "name": "stdout",
     "output_type": "stream",
     "text": [
      "Accuracy on train dataset =  0.7409\n",
      "Accuracy on test dataset =  0.7290\n"
     ]
    }
   ],
   "source": [
    "## check for overfitting risk\n",
    "\n",
    "train_acc = clf_best.score(X_train, labels_train) \n",
    "test_acc = clf_best.score(X_test, labels_test)\n",
    "\n",
    "print(f\"Accuracy on train dataset = {train_acc: .4f}\")\n",
    "print(f\"Accuracy on test dataset = {test_acc: .4f}\")"
   ]
  },
  {
   "cell_type": "code",
   "execution_count": 40,
   "id": "a2837c9e-af40-4cdb-a9c0-caa039c12dec",
   "metadata": {},
   "outputs": [
    {
     "data": {
      "text/html": [
       "<div>\n",
       "<style scoped>\n",
       "    .dataframe tbody tr th:only-of-type {\n",
       "        vertical-align: middle;\n",
       "    }\n",
       "\n",
       "    .dataframe tbody tr th {\n",
       "        vertical-align: top;\n",
       "    }\n",
       "\n",
       "    .dataframe thead th {\n",
       "        text-align: right;\n",
       "    }\n",
       "</style>\n",
       "<table border=\"1\" class=\"dataframe\">\n",
       "  <thead>\n",
       "    <tr style=\"text-align: right;\">\n",
       "      <th>Prediction</th>\n",
       "      <th>0.0</th>\n",
       "      <th>1.0</th>\n",
       "    </tr>\n",
       "    <tr>\n",
       "      <th>Reality</th>\n",
       "      <th></th>\n",
       "      <th></th>\n",
       "    </tr>\n",
       "  </thead>\n",
       "  <tbody>\n",
       "    <tr>\n",
       "      <th>0.0</th>\n",
       "      <td>50</td>\n",
       "      <td>45</td>\n",
       "    </tr>\n",
       "    <tr>\n",
       "      <th>1.0</th>\n",
       "      <td>26</td>\n",
       "      <td>141</td>\n",
       "    </tr>\n",
       "  </tbody>\n",
       "</table>\n",
       "</div>"
      ],
      "text/plain": [
       "Prediction  0.0  1.0\n",
       "Reality             \n",
       "0.0          50   45\n",
       "1.0          26  141"
      ]
     },
     "metadata": {},
     "output_type": "display_data"
    },
    {
     "name": "stdout",
     "output_type": "stream",
     "text": [
      "              precision    recall  f1-score   support\n",
      "\n",
      "         0.0       0.66      0.53      0.58        95\n",
      "         1.0       0.76      0.84      0.80       167\n",
      "\n",
      "    accuracy                           0.73       262\n",
      "   macro avg       0.71      0.69      0.69       262\n",
      "weighted avg       0.72      0.73      0.72       262\n",
      "\n"
     ]
    }
   ],
   "source": [
    "## Evaluate performance on test set\n",
    "cm = pd.crosstab(labels_test, labels_pred, rownames = ['Reality'], colnames = ['Prediction'])\n",
    "display(cm)\n",
    "\n",
    "\n",
    "## detailed report\n",
    "from sklearn.metrics import classification_report\n",
    "cr = classification_report(labels_test, labels_pred)\n",
    "print(cr)"
   ]
  },
  {
   "cell_type": "markdown",
   "id": "ea8b99a2-2fd8-4ce2-9fc3-f3049092c924",
   "metadata": {},
   "source": [
    "## Further model optimization"
   ]
  },
  {
   "cell_type": "code",
   "execution_count": 82,
   "id": "f39ff760-afb1-42ad-a0d5-5ff7cf8ebfe7",
   "metadata": {},
   "outputs": [
    {
     "name": "stdout",
     "output_type": "stream",
     "text": [
      "Optimal probability threshold =  0.6513\n",
      "\t true positive rate =  0.7725\n",
      "\t false positive rate =  0.3368\n"
     ]
    },
    {
     "data": {
      "image/png": "[encoded data removed]",
      "text/plain": [
       "<Figure size 640x480 with 1 Axes>"
      ]
     },
     "metadata": {},
     "output_type": "display_data"
    }
   ],
   "source": [
    "import matplotlib.pyplot as plt\n",
    "from sklearn.metrics import roc_curve, auc\n",
    "\n",
    "fpr, tpr, thresholds = roc_curve(labels_test, proba_pred[:,1], pos_label = 1)\n",
    "auc = auc(fpr, tpr)\n",
    "\n",
    "# Optimal point is the touching point closer to the (1,0) corner. \n",
    "idx = (tpr-fpr).argmax() \n",
    "print(f\"Optimal probability threshold = {thresholds[idx]: .4f}\")\n",
    "print(f\"\\t true positive rate = {tpr[idx]: .4f}\")\n",
    "print(f\"\\t false positive rate = {fpr[idx]: .4f}\")\n",
    "\n",
    "# models:\n",
    "plt.plot(fpr, tpr, c = 'r', label = 'clf model (auc = %0.2f)' % auc)\n",
    "plt.plot(fpr, fpr, c = 'b', label = 'Random model (auc = 0.50)', ls ='--')\n",
    "\n",
    "# indicators: \n",
    "dy = tpr[idx]-fpr[idx]\n",
    "plt.plot(fpr, fpr+dy, c = 'gray', alpha=0.5, ls ='--')\n",
    "plt.axhline(y=tpr[idx], xmin=0, xmax=fpr[idx], color='gray', alpha=0.5, ls ='--')\n",
    "plt.plot(fpr[idx], tpr[idx], c = 'k', marker = 'x')\n",
    "plt.plot(fpr[50], tpr[50], c = 'k', marker = '+')\n",
    "\n",
    "# formating:\n",
    "plt.grid(visible=True)\n",
    "plt.xlabel('False Positive Rate')\n",
    "plt.ylabel('True Positive Rate')\n",
    "plt.axis([0,1,0,1.05])\n",
    "plt.legend()\n",
    "plt.show()"
   ]
  },
  {
   "cell_type": "markdown",
   "id": "75d33865-930b-4338-93b2-bb36c05b3da7",
   "metadata": {},
   "source": [
    "**Notes:**\n",
    "\n",
    "* The model can be improved a bit by changing the probability threshold.\n",
    "* on the API use the model to predict probabilities and use the tunned threshold.\n",
    "* check here how the metrics improve with this change\n",
    "* the threshodl can be a risk parameter led to an investor to set as input.\n",
    "* optimal model catches 77% of the good player, with a risk of 35% of investing in a bad player."
   ]
  },
  {
   "cell_type": "code",
   "execution_count": null,
   "id": "4f9c4461-ae23-4cb5-8c98-3c3218540053",
   "metadata": {},
   "outputs": [],
   "source": []
  },
  {
   "cell_type": "markdown",
   "id": "d0c25900-8699-40ac-99e9-7f4c9fba03be",
   "metadata": {},
   "source": [
    "# Export trained Model"
   ]
  },
  {
   "cell_type": "code",
   "execution_count": 83,
   "id": "110c5a4d-21f6-4591-899c-ae25939dff05",
   "metadata": {},
   "outputs": [
    {
     "data": {
      "text/plain": [
       "['.\\\\best_model.joblib']"
      ]
     },
     "execution_count": 83,
     "metadata": {},
     "output_type": "execute_result"
    }
   ],
   "source": [
    "from joblib import dump, load\n",
    "dump(clf_best, '.\\\\best_model.joblib')\n"
   ]
  },
  {
   "cell_type": "code",
   "execution_count": null,
   "id": "57b2e8b0-07a7-4d3d-bdc9-b91a5a4eebc9",
   "metadata": {},
   "outputs": [],
   "source": []
  },
  {
   "cell_type": "code",
   "execution_count": null,
   "id": "ac376c82-e08c-45c3-aacb-e8819b714a2d",
   "metadata": {},
   "outputs": [],
   "source": []
  },
  {
   "cell_type": "code",
   "execution_count": null,
   "id": "13f63aae-36f2-493d-b9bc-f2f0a7ffae7d",
   "metadata": {},
   "outputs": [],
   "source": []
  }
 ],
 "metadata": {
  "kernelspec": {
   "display_name": "Python 3 (ipykernel)",
   "language": "python",
   "name": "python3"
  },
  "language_info": {
   "codemirror_mode": {
    "name": "ipython",
    "version": 3
   },
   "file_extension": ".py",
   "mimetype": "text/x-python",
   "name": "python",
   "nbconvert_exporter": "python",
   "pygments_lexer": "ipython3",
   "version": "3.9.12"
  }
 },
 "nbformat": 4,
 "nbformat_minor": 5
}
