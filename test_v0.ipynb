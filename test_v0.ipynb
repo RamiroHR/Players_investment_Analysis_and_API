{
 "cells": [
  {
   "cell_type": "markdown",
   "id": "3e853327",
   "metadata": {},
   "source": [
    "# Imports"
   ]
  },
  {
   "cell_type": "code",
   "execution_count": 1,
   "id": "9b9a20e6",
   "metadata": {},
   "outputs": [],
   "source": [
    "import numpy as np\n",
    "import pandas as pd\n",
    "import matplotlib\n",
    "from matplotlib import pyplot as plt\n",
    "from sklearn.preprocessing import MinMaxScaler\n",
    "from sklearn.model_selection import KFold\n",
    "from sklearn.metrics import confusion_matrix\n",
    "from sklearn.metrics import recall_score\n",
    "from sklearn.svm import SVC\n",
    "from sklearn.ensemble import RandomForestClassifier"
   ]
  },
  {
   "cell_type": "code",
   "execution_count": null,
   "id": "5032dbdb",
   "metadata": {},
   "outputs": [],
   "source": []
  },
  {
   "cell_type": "code",
   "execution_count": 2,
   "id": "9d7ecd1d",
   "metadata": {},
   "outputs": [
    {
     "name": "stdout",
     "output_type": "stream",
     "text": [
      "[[271. 238.]\n",
      " [145. 686.]]\n",
      "0.82551959002102\n"
     ]
    }
   ],
   "source": [
    "\n",
    "\n",
    "def score_classifier(dataset,classifier,labels):\n",
    "\n",
    "    \"\"\"\n",
    "    performs 3 random trainings/tests to build a confusion matrix and prints results with precision and recall scores\n",
    "    :param dataset: the dataset to work on\n",
    "    :param classifier: the classifier to use\n",
    "    :param labels: the labels used for training and validation\n",
    "    :return:\n",
    "    \"\"\"\n",
    "\n",
    "    kf = KFold(n_splits=3,random_state=50,shuffle=True)\n",
    "    confusion_mat = np.zeros((2,2))\n",
    "    recall = 0\n",
    "    for training_ids,test_ids in kf.split(dataset):\n",
    "        training_set = dataset[training_ids]\n",
    "        training_labels = labels[training_ids]\n",
    "        test_set = dataset[test_ids]\n",
    "        test_labels = labels[test_ids]\n",
    "        classifier.fit(training_set,training_labels)\n",
    "        predicted_labels = classifier.predict(test_set)\n",
    "        confusion_mat+=confusion_matrix(test_labels,predicted_labels)\n",
    "        recall += recall_score(test_labels, predicted_labels)\n",
    "    recall/=3\n",
    "    print(confusion_mat)\n",
    "    print(recall)\n",
    "\n",
    "\n",
    "# Load dataset\n",
    "df = pd.read_csv(\".\\\\nba_logreg.csv\")\n",
    "\n",
    "# extract names, labels, features names and values\n",
    "names = df['Name'].values.tolist() # players names\n",
    "labels = df['TARGET_5Yrs'].values # labels\n",
    "paramset = df.drop(['TARGET_5Yrs','Name'],axis=1).columns.values\n",
    "df_vals = df.drop(['TARGET_5Yrs','Name'],axis=1).values\n",
    "\n",
    "# replacing Nan values (only present when no 3 points attempts have been performed by a player)\n",
    "for x in np.argwhere(np.isnan(df_vals)):\n",
    "    df_vals[x]=0.0\n",
    "\n",
    "# normalize dataset\n",
    "X = MinMaxScaler().fit_transform(df_vals)\n",
    "\n",
    "#example of scoring with support vector classifier\n",
    "score_classifier(X,SVC(),labels)\n",
    "\n",
    "# TODO build a training set and choose a classifier which maximize recall score returned by the score_classifier function\n",
    "\n",
    "\n"
   ]
  },
  {
   "cell_type": "code",
   "execution_count": null,
   "id": "1a890837-b97a-446a-b13d-7c94e7d14248",
   "metadata": {},
   "outputs": [],
   "source": []
  },
  {
   "cell_type": "code",
   "execution_count": null,
   "id": "f5060f75-b70f-44d7-86b6-17d260e93525",
   "metadata": {},
   "outputs": [],
   "source": []
  }
 ],
 "metadata": {
  "kernelspec": {
   "display_name": "Python 3 (ipykernel)",
   "language": "python",
   "name": "python3"
  },
  "language_info": {
   "codemirror_mode": {
    "name": "ipython",
    "version": 3
   },
   "file_extension": ".py",
   "mimetype": "text/x-python",
   "name": "python",
   "nbconvert_exporter": "python",
   "pygments_lexer": "ipython3",
   "version": "3.9.12"
  }
 },
 "nbformat": 4,
 "nbformat_minor": 5
}
